{
  "nbformat": 4,
  "nbformat_minor": 0,
  "metadata": {
    "colab": {
      "provenance": [],
      "gpuType": "T4",
      "authorship_tag": "ABX9TyPgO+EFWWSl8APlKX2JUJO0",
      "include_colab_link": true
    },
    "kernelspec": {
      "name": "python3",
      "display_name": "Python 3"
    },
    "language_info": {
      "name": "python"
    },
    "accelerator": "GPU"
  },
  "cells": [
    {
      "cell_type": "markdown",
      "metadata": {
        "id": "view-in-github",
        "colab_type": "text"
      },
      "source": [
        "<a href=\"https://colab.research.google.com/github/jayshah1819/CUDA_PREP/blob/main/Clusters.ipynb\" target=\"_parent\"><img src=\"https://colab.research.google.com/assets/colab-badge.svg\" alt=\"Open In Colab\"/></a>"
      ]
    },
    {
      "cell_type": "code",
      "execution_count": 1,
      "metadata": {
        "colab": {
          "base_uri": "https://localhost:8080/"
        },
        "id": "S-Y_gFXE8SSc",
        "outputId": "c6a46a98-77bd-4810-85b4-83c718fa0b9c"
      },
      "outputs": [
        {
          "output_type": "stream",
          "name": "stdout",
          "text": [
            "Writing my_program.cu\n"
          ]
        }
      ],
      "source": [
        "\n",
        "%%writefile my_program.cu\n",
        "#include<iostream>\n",
        "#include <cooperative_groups.h>\n",
        "\n",
        "\n",
        "__global__ __cluster_dims__(2,1,1) void addMat(float* a, float* b, float* c, float* d, int N)\n",
        "{\n",
        "        int row =threadIdx.y+blockIdx.y*blockDim.y;\n",
        "        int col=threadIdx.x+blockIdx.x*blockDim.x;\n",
        "\n",
        "        int idx=N*row+col;\n",
        "        if(row<N&&col<N){\n",
        "                d[idx]=a[idx]+b[idx]+c[idx];\n",
        "            }\n",
        "            //identify which cluster they belong to.\n",
        "\n",
        "            cooperative_groups::cluster_group cluster=cooperative_groups::this_cluster();\n",
        "\n",
        "            cluster.sync();\n",
        "\n",
        "\n",
        "\n",
        "}\n",
        "int main(){\n",
        "        int N=1024;\n",
        "\n",
        "        size_t size=N*N*sizeof(float);\n",
        "        //if the size n*n is not big then we can use int but if its big use\n",
        "        //size_t: It works for both small and large matrices\n",
        "        float* h_a=(float*)malloc(size);\n",
        "        float* h_b=(float*)malloc(size);\n",
        "        float* h_c=(float*)malloc(size);\n",
        "        float* h_d=(float*)malloc(size);\n",
        "\n",
        "        for(int i=0;i<N*N;i++){\n",
        "                h_a[i]=i;\n",
        "                h_b[i]=i+1;\n",
        "                h_c[i]=i+100;\n",
        "\n",
        "        }\n",
        "        float* d_a,*d_b,*d_c,*d_d;\n",
        "\n",
        "        cudaMalloc(&d_a,size);\n",
        "        cudaMalloc(&d_b,size);\n",
        "        cudaMalloc(&d_c,size);\n",
        "        cudaMalloc(&d_d,size);\n",
        "\n",
        "\n",
        "        cudaMemcpy(d_a,h_a,size,cudaMemcpyHostToDevice);\n",
        "        cudaMemcpy(d_b,h_b,size,cudaMemcpyHostToDevice);\n",
        "        cudaMemcpy(d_c,h_c,size,cudaMemcpyHostToDevice);\n",
        "\n",
        "\n",
        "        dim3 threadsPerBlock(16,16);\n",
        "        dim3 numBlocks((N+15)/16,(N+15)/16);\n",
        "\n",
        "        addMat<<<numBlocks,threadsPerBlock>>>(d_a,d_b,d_c,d_d,N);\n",
        "\n",
        "        cudaMemcpy(h_d,d_d,size,cudaMemcpyDeviceToHost);\n",
        "\n",
        "         for (int i = 0; i < 100; i++) {\n",
        "                std::cout << \"Result[\" << i << \"] = \" << h_d[i] << std::endl;\n",
        "            }\n",
        "\n",
        "\n",
        "        cudaFree(d_a);\n",
        "        cudaFree(d_b);\n",
        "        cudaFree(d_c);\n",
        "        cudaFree(d_d);\n",
        "        free(h_a);\n",
        "        free(h_b);\n",
        "        free(h_c);\n",
        "        free(h_d);\n",
        "\n",
        "        return 0;\n",
        "\n",
        "\n",
        "}"
      ]
    },
    {
      "cell_type": "code",
      "source": [
        "!nvcc my_program.cu -o my_program\n"
      ],
      "metadata": {
        "colab": {
          "base_uri": "https://localhost:8080/"
        },
        "id": "h2rFXWDq8rae",
        "outputId": "05957781-fbdd-4a9f-c9f4-0c3c83ce977e"
      },
      "execution_count": 2,
      "outputs": [
        {
          "output_type": "stream",
          "name": "stdout",
          "text": [
            "\u001b[01m\u001b[0m\u001b[01mmy_program.cu(5)\u001b[0m: \u001b[01;31merror\u001b[0m: __cluster_dims__ is not supported for this GPU architecture\n",
            "  __attribute__((global)) __attribute__((cluster_dims(2,1,1))) void addMat(float* a, float* b, float* c, float* d, int N)\n",
            "                                         ^\n",
            "\n",
            "\u001b[01m\u001b[0m\u001b[01mmy_program.cu(16)\u001b[0m: \u001b[01;31merror\u001b[0m: namespace \u001b[01m\"cooperative_groups\"\u001b[0m has no member \"\u001b[01mcluster_group\u001b[0m\"\n",
            "              cooperative_groups::cluster_group cluster=cooperative_groups::this_cluster();\n",
            "                                  ^\n",
            "\n",
            "\u001b[01m\u001b[0m\u001b[01mmy_program.cu(16)\u001b[0m: \u001b[01;31merror\u001b[0m: namespace \u001b[01m\"cooperative_groups\"\u001b[0m has no member \"\u001b[01mthis_cluster\u001b[0m\"\n",
            "              cooperative_groups::cluster_group cluster=cooperative_groups::this_cluster();\n",
            "                                                                            ^\n",
            "\n",
            "3 errors detected in the compilation of \"my_program.cu\".\n"
          ]
        }
      ]
    },
    {
      "cell_type": "code",
      "source": [
        "nvcc --version\n",
        "\n"
      ],
      "metadata": {
        "colab": {
          "base_uri": "https://localhost:8080/",
          "height": 162
        },
        "id": "VkaPZdON838k",
        "outputId": "24b4953c-7013-4663-fd37-9e9c3fd86cd6"
      },
      "execution_count": 3,
      "outputs": [
        {
          "output_type": "error",
          "ename": "NameError",
          "evalue": "name 'nvcc' is not defined",
          "traceback": [
            "\u001b[0;31m---------------------------------------------------------------------------\u001b[0m",
            "\u001b[0;31mNameError\u001b[0m                                 Traceback (most recent call last)",
            "\u001b[0;32m/tmp/ipython-input-3-802217035.py\u001b[0m in \u001b[0;36m<cell line: 0>\u001b[0;34m()\u001b[0m\n\u001b[0;32m----> 1\u001b[0;31m \u001b[0mnvcc\u001b[0m \u001b[0;34m-\u001b[0m\u001b[0;34m-\u001b[0m\u001b[0mversion\u001b[0m\u001b[0;34m\u001b[0m\u001b[0;34m\u001b[0m\u001b[0m\n\u001b[0m\u001b[1;32m      2\u001b[0m \u001b[0;34m\u001b[0m\u001b[0m\n",
            "\u001b[0;31mNameError\u001b[0m: name 'nvcc' is not defined"
          ]
        }
      ]
    }
  ]
}