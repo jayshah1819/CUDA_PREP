{
  "nbformat": 4,
  "nbformat_minor": 0,
  "metadata": {
    "colab": {
      "provenance": [],
      "gpuType": "T4",
      "authorship_tag": "ABX9TyO18ATfyEStCGD1+Th6ZiuK",
      "include_colab_link": true
    },
    "kernelspec": {
      "name": "python3",
      "display_name": "Python 3"
    },
    "language_info": {
      "name": "python"
    },
    "accelerator": "GPU"
  },
  "cells": [
    {
      "cell_type": "markdown",
      "metadata": {
        "id": "view-in-github",
        "colab_type": "text"
      },
      "source": [
        "<a href=\"https://colab.research.google.com/github/jayshah1819/CUDA_PREP/blob/main/register_usage.ipynb\" target=\"_parent\"><img src=\"https://colab.research.google.com/assets/colab-badge.svg\" alt=\"Open In Colab\"/></a>"
      ]
    },
    {
      "cell_type": "code",
      "execution_count": null,
      "metadata": {
        "colab": {
          "base_uri": "https://localhost:8080/"
        },
        "id": "-BiUtmDP2TMP",
        "outputId": "bdc73535-4c24-4287-ec2f-4e5801145675"
      },
      "outputs": [
        {
          "output_type": "stream",
          "name": "stdout",
          "text": [
            "Writing test_kernel.cu\n"
          ]
        }
      ],
      "source": [
        "%%writefile test_kernel.cu\n",
        "#include <stdio.h>\n",
        "#include <cuda_runtime.h>\n",
        "\n",
        "// Kernel with configurable dummy register usage to inflate register count\n",
        "__global__ void kernel_with_regs(int dummy_count) {\n",
        "    int dummy[64];\n",
        "    for (int i = 0; i < dummy_count; i++) {\n",
        "        dummy[i] = threadIdx.x;\n",
        "    }\n",
        "    int idx = blockIdx.x * blockDim.x + threadIdx.x;\n",
        "    if (idx == 0) printf(\"Dummy registers used: %d\\n\", dummy_count);\n",
        "}\n",
        "\n",
        "int main() {\n",
        "    int block_size = 256;\n",
        "\n",
        "    for (int reg_count = 8; reg_count <= 64; reg_count += 8) {\n",
        "        int max_active_blocks = 0;\n",
        "        int max_active_threads = 0;\n",
        "\n",
        "        cudaError_t err = cudaOccupancyMaxActiveBlocksPerMultiprocessor(\n",
        "            &max_active_blocks,\n",
        "            kernel_with_regs,\n",
        "            block_size,\n",
        "            0);\n",
        "\n",
        "        if (err != cudaSuccess) {\n",
        "            printf(\"Error: %s\\n\", cudaGetErrorString(err));\n",
        "            break;\n",
        "        }\n",
        "\n",
        "        max_active_threads = max_active_blocks * block_size;\n",
        "\n",
        "        printf(\"Registers (dummy count): %d, Max active blocks/SM: %d, Max active threads/SM: %d\\n\",\n",
        "               reg_count, max_active_blocks, max_active_threads);\n",
        "    }\n",
        "\n",
        "    return 0;\n",
        "}\n"
      ]
    },
    {
      "cell_type": "code",
      "source": [
        "!nvcc -o test_kernel test_kernel.cu\n"
      ],
      "metadata": {
        "colab": {
          "base_uri": "https://localhost:8080/"
        },
        "id": "x7Wp7VQC2Yov",
        "outputId": "5e7713ff-de80-4a1a-b13b-f2b252c5188a"
      },
      "execution_count": null,
      "outputs": [
        {
          "output_type": "stream",
          "name": "stdout",
          "text": [
            "\u001b[01m\u001b[0m\u001b[01mtest_kernel.cu(6)\u001b[0m: \u001b[01;35mwarning\u001b[0m #550-D: variable \u001b[01m\"dummy\"\u001b[0m was set but never used\n",
            "      int dummy[64];\n",
            "          ^\n",
            "\n",
            "\u001b[01;36m\u001b[0m\u001b[01;36mRemark\u001b[0m: The warnings can be suppressed with \"-diag-suppress <warning-number>\"\n",
            "\n"
          ]
        }
      ]
    },
    {
      "cell_type": "code",
      "source": [
        "!./test_kernel\n"
      ],
      "metadata": {
        "colab": {
          "base_uri": "https://localhost:8080/"
        },
        "id": "2_ecicXX2bqu",
        "outputId": "5b03ced2-a299-40bd-9b86-ed8023ec38ee"
      },
      "execution_count": null,
      "outputs": [
        {
          "output_type": "stream",
          "name": "stdout",
          "text": [
            "Error: the provided PTX was compiled with an unsupported toolchain.\n"
          ]
        }
      ]
    },
    {
      "cell_type": "code",
      "source": [],
      "metadata": {
        "id": "p7x-GZiE29-T"
      },
      "execution_count": null,
      "outputs": []
    },
    {
      "cell_type": "markdown",
      "source": [],
      "metadata": {
        "id": "VsWumnmU2-dC"
      }
    },
    {
      "cell_type": "code",
      "source": [
        "!nvcc -arch=sm_75 -o test_kernel test_kernel.cu\n"
      ],
      "metadata": {
        "colab": {
          "base_uri": "https://localhost:8080/"
        },
        "id": "bY7O0raM2utA",
        "outputId": "11f66159-1a4c-488c-8ca0-53cd8e7da90e"
      },
      "execution_count": null,
      "outputs": [
        {
          "output_type": "stream",
          "name": "stdout",
          "text": [
            "\u001b[01m\u001b[0m\u001b[01mtest_kernel.cu(6)\u001b[0m: \u001b[01;35mwarning\u001b[0m #550-D: variable \u001b[01m\"dummy\"\u001b[0m was set but never used\n",
            "      int dummy[64];\n",
            "          ^\n",
            "\n",
            "\u001b[01;36m\u001b[0m\u001b[01;36mRemark\u001b[0m: The warnings can be suppressed with \"-diag-suppress <warning-number>\"\n",
            "\n"
          ]
        }
      ]
    },
    {
      "cell_type": "code",
      "source": [
        "!./test_kernel\n"
      ],
      "metadata": {
        "id": "S7vag1EX2z9L",
        "outputId": "9dd50624-974c-435d-841c-c409a6996d4f",
        "colab": {
          "base_uri": "https://localhost:8080/"
        }
      },
      "execution_count": null,
      "outputs": [
        {
          "output_type": "stream",
          "name": "stdout",
          "text": [
            "Registers (dummy count): 8, Max active blocks/SM: 4, Max active threads/SM: 1024\n",
            "Registers (dummy count): 16, Max active blocks/SM: 4, Max active threads/SM: 1024\n",
            "Registers (dummy count): 24, Max active blocks/SM: 4, Max active threads/SM: 1024\n",
            "Registers (dummy count): 32, Max active blocks/SM: 4, Max active threads/SM: 1024\n",
            "Registers (dummy count): 40, Max active blocks/SM: 4, Max active threads/SM: 1024\n",
            "Registers (dummy count): 48, Max active blocks/SM: 4, Max active threads/SM: 1024\n",
            "Registers (dummy count): 56, Max active blocks/SM: 4, Max active threads/SM: 1024\n",
            "Registers (dummy count): 64, Max active blocks/SM: 4, Max active threads/SM: 1024\n"
          ]
        }
      ]
    },
    {
      "cell_type": "code",
      "source": [],
      "metadata": {
        "id": "cD4RJkN522Cg"
      },
      "execution_count": null,
      "outputs": []
    }
  ]
}