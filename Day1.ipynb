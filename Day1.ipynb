{
  "nbformat": 4,
  "nbformat_minor": 0,
  "metadata": {
    "colab": {
      "provenance": [],
      "gpuType": "T4",
      "authorship_tag": "ABX9TyNzvBM8HXywOwoqcqJz/guW",
      "include_colab_link": true
    },
    "kernelspec": {
      "name": "python3",
      "display_name": "Python 3"
    },
    "language_info": {
      "name": "python"
    },
    "accelerator": "GPU"
  },
  "cells": [
    {
      "cell_type": "markdown",
      "metadata": {
        "id": "view-in-github",
        "colab_type": "text"
      },
      "source": [
        "<a href=\"https://colab.research.google.com/github/jayshah1819/CUDA_PREP/blob/main/Day1.ipynb\" target=\"_parent\"><img src=\"https://colab.research.google.com/assets/colab-badge.svg\" alt=\"Open In Colab\"/></a>"
      ]
    },
    {
      "cell_type": "code",
      "execution_count": 7,
      "metadata": {
        "colab": {
          "base_uri": "https://localhost:8080/"
        },
        "id": "bnq-uToOYED5",
        "outputId": "81dcced1-6d95-4df3-b029-658ee6d92c4d"
      },
      "outputs": [
        {
          "output_type": "stream",
          "name": "stdout",
          "text": [
            "Writing my_cuda_program.cu\n"
          ]
        }
      ],
      "source": [
        "%%writefile my_cuda_program.cu\n",
        "\n",
        "#include <cuda_runtime.h>\n",
        "\n",
        "int main() {\n",
        "    int* a;  // Declare a as a pointer to int\n",
        "    cudaMalloc((void**)&a, 100);  // Allocate 100 bytes of memory on the GPU\n",
        "    cudaFree(a);  // Free the allocated memory\n",
        "\n",
        "    return 0;\n",
        "}\n",
        "\n"
      ]
    },
    {
      "cell_type": "code",
      "source": [
        "!nvcc my_cuda_program.cu -o my_cuda_program\n",
        "\n",
        "!./my_cuda_program\n"
      ],
      "metadata": {
        "id": "iey9xkhxYlCg"
      },
      "execution_count": 9,
      "outputs": []
    }
  ]
}