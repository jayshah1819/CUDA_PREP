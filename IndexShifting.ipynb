{
  "nbformat": 4,
  "nbformat_minor": 0,
  "metadata": {
    "colab": {
      "provenance": [],
      "gpuType": "T4",
      "authorship_tag": "ABX9TyMv5gzw3v6//rq7DkkyoOx4",
      "include_colab_link": true
    },
    "kernelspec": {
      "name": "python3",
      "display_name": "Python 3"
    },
    "language_info": {
      "name": "python"
    },
    "accelerator": "GPU"
  },
  "cells": [
    {
      "cell_type": "markdown",
      "metadata": {
        "id": "view-in-github",
        "colab_type": "text"
      },
      "source": [
        "<a href=\"https://colab.research.google.com/github/jayshah1819/CUDA_PREP/blob/main/IndexShifting.ipynb\" target=\"_parent\"><img src=\"https://colab.research.google.com/assets/colab-badge.svg\" alt=\"Open In Colab\"/></a>"
      ]
    },
    {
      "cell_type": "code",
      "execution_count": 18,
      "metadata": {
        "colab": {
          "base_uri": "https://localhost:8080/"
        },
        "id": "XVDXGmAViZV0",
        "outputId": "8c169fc8-498d-4090-87e3-519feb89dc7f"
      },
      "outputs": [
        {
          "output_type": "stream",
          "name": "stdout",
          "text": [
            "Overwriting my_kernel.cu\n"
          ]
        }
      ],
      "source": [
        "%%writefile my_kernel.cu\n",
        "#include <stdio.h>\n",
        "#include<iostream>\n",
        "\n",
        "__global__ void indexShifting(int* d_a){\n",
        "\n",
        "        int idx=threadIdx.x;\n",
        "        if(idx<127){\n",
        "                d_a[idx]=d_a[idx+1];\n",
        "\n",
        "        }\n",
        "\n",
        "\n",
        "}\n",
        "\n",
        "int main(){\n",
        "        int n=128;\n",
        "        int a[n];\n",
        "\n",
        "        int* d_a;\n",
        "        int size = n*sizeof(int);\n",
        "\n",
        "        cudaMalloc((void**)&d_a,size);\n",
        "        cudaMemcpy(d_a,a,size,cudaMemcpyHostToDevice);\n",
        "\n",
        "        int threadPerBlock=256;\n",
        "        int blocksPerThread=1;\n",
        "        indexShifting<<<blocksPerThread,threadPerBlock>>>(d_a);;\n",
        "        cudaDeviceSynchronize();\n",
        "\n",
        "\n",
        "\n",
        "\n",
        "\n",
        "        cudaMemcpy(a,d_a,size,cudaMemcpyDeviceToHost);\n",
        "\n",
        "                for(int i=0;i<n;i++){\n",
        "                    printf(\"%d\\n\",d_a[i]);\n",
        "        }\n",
        "\n",
        "        cudaFree(d_a);\n",
        "}\n"
      ]
    },
    {
      "cell_type": "code",
      "source": [
        "!nvcc my_kernel.cu -o my_kernel\n"
      ],
      "metadata": {
        "id": "7sEbdhWsigFa"
      },
      "execution_count": 19,
      "outputs": []
    },
    {
      "cell_type": "code",
      "source": [
        "!./my_kernel\n"
      ],
      "metadata": {
        "id": "bHcGG6zxkQ_y"
      },
      "execution_count": 20,
      "outputs": []
    }
  ]
}