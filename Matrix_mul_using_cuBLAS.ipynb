{
  "nbformat": 4,
  "nbformat_minor": 0,
  "metadata": {
    "colab": {
      "provenance": [],
      "gpuType": "T4",
      "authorship_tag": "ABX9TyP6uKAUUdPPRjEPptO3vhtq",
      "include_colab_link": true
    },
    "kernelspec": {
      "name": "python3",
      "display_name": "Python 3"
    },
    "language_info": {
      "name": "python"
    },
    "accelerator": "GPU"
  },
  "cells": [
    {
      "cell_type": "markdown",
      "metadata": {
        "id": "view-in-github",
        "colab_type": "text"
      },
      "source": [
        "<a href=\"https://colab.research.google.com/github/jayshah1819/CUDA_PREP/blob/main/Matrix_mul_using_cuBLAS.ipynb\" target=\"_parent\"><img src=\"https://colab.research.google.com/assets/colab-badge.svg\" alt=\"Open In Colab\"/></a>"
      ]
    },
    {
      "cell_type": "code",
      "execution_count": 2,
      "metadata": {
        "colab": {
          "base_uri": "https://localhost:8080/"
        },
        "id": "feM55xKfmpQu",
        "outputId": "16b87276-4592-473e-cca3-d062fa0cf2db"
      },
      "outputs": [
        {
          "output_type": "stream",
          "name": "stdout",
          "text": [
            "Writing matmul_cublas.cu\n"
          ]
        }
      ],
      "source": [
        "%%writefile matmul_cublas.cu\n",
        "#include <cublas_v2.h>\n",
        "#include <stdio.h>\n",
        "\n",
        "int main() {\n",
        "    int N = 2;\n",
        "    float a[] = {1, 2, 3, 3};\n",
        "    float b[] = {12, 4, 5, 5};\n",
        "    float c[N * N];\n",
        "\n",
        "    float *d_a, *d_b, *d_c;\n",
        "    int size = N * N * sizeof(float);\n",
        "\n",
        "    cudaMalloc((void**)&d_a, size);\n",
        "    cudaMalloc((void**)&d_b, size);\n",
        "    cudaMalloc((void**)&d_c, size);\n",
        "\n",
        "    cudaMemcpy(d_a, a, size, cudaMemcpyHostToDevice);\n",
        "    cudaMemcpy(d_b, b, size, cudaMemcpyHostToDevice);\n",
        "\n",
        "    cublasHandle_t handle;\n",
        "    cublasCreate(&handle);\n",
        "\n",
        "    const float alpha = 2.2f;\n",
        "    const float beta = 0.0f;\n",
        "\n",
        "    cublasSgemm(handle,\n",
        "                CUBLAS_OP_N,\n",
        "                CUBLAS_OP_N,\n",
        "                N, N, N,\n",
        "                &alpha,\n",
        "                d_b, N,\n",
        "                d_a, N,\n",
        "                &beta,\n",
        "                d_c, N);\n",
        "\n",
        "    cudaMemcpy(c, d_c, size, cudaMemcpyDeviceToHost);\n",
        "\n",
        "    printf(\"Result matrix:\\n\");\n",
        "    for (int i = 0; i < N * N; i++) {\n",
        "        printf(\"%f \", c[i]);\n",
        "    }\n",
        "\n",
        "    cublasDestroy(handle);\n",
        "    cudaFree(d_a);\n",
        "    cudaFree(d_b);\n",
        "    cudaFree(d_c);\n",
        "    return 0;\n",
        "}\n"
      ]
    },
    {
      "cell_type": "code",
      "source": [
        "!nvcc matmul_cublas.cu -lcublas -o matmul\n",
        "!./matmul\n"
      ],
      "metadata": {
        "colab": {
          "base_uri": "https://localhost:8080/"
        },
        "id": "SqDnYbgKnHDW",
        "outputId": "c14e48ce-8fb8-4ef2-84e7-6ee94db5aa15"
      },
      "execution_count": 3,
      "outputs": [
        {
          "output_type": "stream",
          "name": "stdout",
          "text": [
            "Result matrix:\n",
            "48.400002 30.799999 112.200005 59.400002 "
          ]
        }
      ]
    }
  ]
}